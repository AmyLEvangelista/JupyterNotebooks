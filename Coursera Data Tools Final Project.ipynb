{
  "metadata": {
    "language_info": {
      "codemirror_mode": {
        "name": "python",
        "version": 3
      },
      "file_extension": ".py",
      "mimetype": "text/x-python",
      "name": "python",
      "nbconvert_exporter": "python",
      "pygments_lexer": "ipython3",
      "version": "3.8"
    },
    "kernelspec": {
      "name": "python",
      "display_name": "Pyolite",
      "language": "python"
    }
  },
  "nbformat_minor": 4,
  "nbformat": 4,
  "cells": [
    {
      "cell_type": "markdown",
      "source": "# My Jupyter Notebook on IBM Watson Studio",
      "metadata": {}
    },
    {
      "cell_type": "markdown",
      "source": "**Amy Evangelista** \\\nData Scientist",
      "metadata": {}
    },
    {
      "cell_type": "markdown",
      "source": "*I am interested in data science and how it can be used to address the problems of small communities and non-profits. I would like to use my data science skills to analyze my local food system and support businesses that alleviate hunger and their corresponding food deserts.*",
      "metadata": {}
    },
    {
      "cell_type": "markdown",
      "source": "### The following code demostrates the += expression and how it can be used to add numbers. ",
      "metadata": {}
    },
    {
      "cell_type": "code",
      "source": "var = 1\nvar += 1\nprint(var)\n",
      "metadata": {
        "trusted": true
      },
      "execution_count": 4,
      "outputs": [
        {
          "name": "stdout",
          "text": "2\n",
          "output_type": "stream"
        }
      ]
    },
    {
      "cell_type": "markdown",
      "source": "To finish this project I am going to include the following three elements in this markdown cell: \n- a bulleted list\n- [a hyperlink](www.coursera.org)\n- a horizontal rule\n---",
      "metadata": {}
    },
    {
      "cell_type": "markdown",
      "source": "## Thank you for reviewing my Jupyter Notebook!",
      "metadata": {}
    },
    {
      "cell_type": "code",
      "source": "",
      "metadata": {},
      "execution_count": null,
      "outputs": []
    }
  ]
}